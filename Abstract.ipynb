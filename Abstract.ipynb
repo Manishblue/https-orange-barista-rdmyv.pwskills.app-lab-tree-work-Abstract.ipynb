{
 "cells": [
  {
   "cell_type": "code",
   "execution_count": 1,
   "id": "4ce47877-3416-4577-9b89-4969ad0878bd",
   "metadata": {},
   "outputs": [],
   "source": [
    "\n",
    "# What is Abstraction in OOps? Explain with an example."
   ]
  },
  {
   "cell_type": "code",
   "execution_count": 2,
   "id": "48f8f8c7-05cf-415f-a8ea-7b0dc3bd9be3",
   "metadata": {},
   "outputs": [
    {
     "ename": "SyntaxError",
     "evalue": "unterminated string literal (detected at line 3) (3798270433.py, line 3)",
     "output_type": "error",
     "traceback": [
      "\u001b[0;36m  Cell \u001b[0;32mIn[2], line 3\u001b[0;36m\u001b[0m\n\u001b[0;31m    Here's an example to illustrate abstraction:\u001b[0m\n\u001b[0m        ^\u001b[0m\n\u001b[0;31mSyntaxError\u001b[0m\u001b[0;31m:\u001b[0m unterminated string literal (detected at line 3)\n"
     ]
    }
   ],
   "source": [
    "# Abstraction in object-oriented programming (OOP) is the process of simplifying complex systems by modeling classes based on their essential properties and behaviors, while hiding the unnecessary details. It involves creating abstract classes and methods that provide a common interface for a set of related classes, without specifying the implementation details.\n",
    "\n",
    "\n",
    "\n",
    "# Abstract Class (Shape): It defines the common properties and methods that every shape should have. Shape has an abstract method area() and another abstract method display_info(). The area() method represents a common behavior for all shapes, and display_info() represents a method to display information about the shape.\n",
    "\n",
    "# Concrete Classes (Circle and Rectangle): These classes inherit from the abstract class Shape and provide concrete implementations for the abstract methods. Each concrete class represents a specific shape (circle or rectangle) with its own properties and behavior.\n",
    "\n",
    "# Usage: The shapes list contains instances of both Circle and Rectangle. The abstraction allows treating them uniformly as instances of the abstract class Shape. This facilitates code organization and helps in managing different shapes through a common interface."
   ]
  },
  {
   "cell_type": "code",
   "execution_count": 5,
   "id": "fa177466-d2e9-4149-9d2f-beeb172ec035",
   "metadata": {},
   "outputs": [
    {
     "name": "stdout",
     "output_type": "stream",
     "text": [
      "Circle - Color: Red, Radius: 5, Area: 78.5\n",
      "Rectangle - Color: Blue, Length: 4, Width: 6, Area: 24\n"
     ]
    }
   ],
   "source": [
    "# Abstract class representing a shape\n",
    "from abc import ABC, abstractmethod\n",
    "class Shape(ABC):\n",
    "    def __init__(self, color):\n",
    "        self.color = color\n",
    "\n",
    "    @abstractmethod\n",
    "    def area(self):\n",
    "        pass\n",
    "\n",
    "    @abstractmethod\n",
    "    def display_info(self):\n",
    "        pass\n",
    "\n",
    "# Concrete class representing a Circle\n",
    "class Circle(Shape):\n",
    "    def __init__(self, color, radius):\n",
    "        super().__init__(color)\n",
    "        self.radius = radius\n",
    "\n",
    "    def area(self):\n",
    "        return 3.14 * self.radius * self.radius\n",
    "\n",
    "    def display_info(self):\n",
    "        print(f\"Circle - Color: {self.color}, Radius: {self.radius}, Area: {self.area()}\")\n",
    "\n",
    "# Concrete class representing a Rectangle\n",
    "class Rectangle(Shape):\n",
    "    def __init__(self, color, length, width):\n",
    "        super().__init__(color)\n",
    "        self.length = length\n",
    "        self.width = width\n",
    "\n",
    "    def area(self):\n",
    "        return self.length * self.width\n",
    "\n",
    "    def display_info(self):\n",
    "        print(f\"Rectangle - Color: {self.color}, Length: {self.length}, Width: {self.width}, Area: {self.area()}\")\n",
    "\n",
    "# Usage of abstraction\n",
    "circle = Circle(\"Red\", 5)\n",
    "rectangle = Rectangle(\"Blue\", 4, 6)\n",
    "\n",
    "shapes = [circle, rectangle]\n",
    "\n",
    "for shape in shapes:\n",
    "    shape.display_info()\n"
   ]
  },
  {
   "cell_type": "code",
   "execution_count": 6,
   "id": "d62ccf5e-5d1c-4501-b7b2-aa9bf2f6f4b1",
   "metadata": {},
   "outputs": [],
   "source": [
    "# Q2. Differentiate between Abstraction and Encapsulation. Explain with an example."
   ]
  },
  {
   "cell_type": "code",
   "execution_count": 9,
   "id": "34dcdf43-233f-4c2f-a25f-da9e3468972d",
   "metadata": {},
   "outputs": [],
   "source": [
    "# Abstraction and encapsulation are two fundamental concepts in object-oriented programming (OOP) that serve different purposes but are often used together. Let's differentiate between them and provide an example for each:\n",
    "\n",
    "# Abstraction:\n",
    "\n",
    "# Purpose: Abstraction is the process of hiding the complex implementation details and showing only the essential features of an object.\n",
    "# How it is achieved: It is achieved through abstract classes and interfaces, allowing you to define a common interface that multiple classes can implement.\n",
    "\n",
    "\n"
   ]
  },
  {
   "cell_type": "code",
   "execution_count": 10,
   "id": "0e7c08d6-2344-443f-b9ae-ee08d70d4c9a",
   "metadata": {},
   "outputs": [],
   "source": [
    "from abc import ABC, abstractmethod\n",
    "\n",
    "# Abstract class representing a vehicle\n",
    "class Vehicle(ABC):\n",
    "    @abstractmethod\n",
    "    def start(self):\n",
    "        pass\n",
    "\n",
    "    @abstractmethod\n",
    "    def stop(self):\n",
    "        pass\n",
    "\n",
    "# Concrete class representing a Car\n",
    "class Car(Vehicle):\n",
    "    def start(self):\n",
    "        print(\"Car started\")\n",
    "\n",
    "    def stop(self):\n",
    "        print(\"Car stopped\")\n",
    "\n",
    "# Concrete class representing a Motorcycle\n",
    "class Motorcycle(Vehicle):\n",
    "    def start(self):\n",
    "        print(\"Motorcycle started\")\n",
    "\n",
    "    def stop(self):\n",
    "        print(\"Motorcycle stopped\")"
   ]
  },
  {
   "cell_type": "code",
   "execution_count": 11,
   "id": "b2fe4ac6-9517-46d6-861c-c5c41692bd8d",
   "metadata": {},
   "outputs": [],
   "source": [
    "# Encapsulation:\n",
    "\n",
    "# Purpose: Encapsulation is the bundling of data (attributes) and methods (functions) that operate on the data into a single unit, called a class. It restricts direct access to some of an object's components and hides the internal state.\n",
    "# How it is achieved: It is achieved through access specifiers (e.g., private, protected) to control the visibility of attributes and methods outside the class."
   ]
  },
  {
   "cell_type": "code",
   "execution_count": 12,
   "id": "e7cb36ce-036d-4991-b3f6-5ede0b13afab",
   "metadata": {},
   "outputs": [],
   "source": [
    "class BankAccount:\n",
    "    def __init__(self, account_holder, balance):\n",
    "        self._account_holder = account_holder  # protected attribute\n",
    "        self.__balance = balance  # private attribute\n",
    "\n",
    "    def deposit(self, amount):\n",
    "        self.__balance += amount\n",
    "\n",
    "    def withdraw(self, amount):\n",
    "        if amount <= self.__balance:\n",
    "            self.__balance -= amount\n",
    "        else:\n",
    "            print(\"Insufficient funds\")\n",
    "\n",
    "    def get_balance(self):\n",
    "        return self.__balance"
   ]
  },
  {
   "cell_type": "code",
   "execution_count": 13,
   "id": "6cf06c38-03e7-4e9e-bc99-8a868b56dc76",
   "metadata": {},
   "outputs": [],
   "source": [
    "# Q3. What is abc module in python? Why is it used?"
   ]
  },
  {
   "cell_type": "code",
   "execution_count": 14,
   "id": "5149c307-4bf6-42f4-8c84-da91f2c8d81d",
   "metadata": {},
   "outputs": [],
   "source": [
    "# ABC (Abstract Base Class):\n",
    "\n",
    "# The ABC class in the abc module is used as a metaclass for creating abstract base classes. Abstract base classes are classes that cannot be instantiated themselves but provide a common interface that derived classes must implement.\n",
    "# abstractmethod:\n",
    "\n",
    "# The abstractmethod decorator is used to declare abstract methods within abstract base classes. An abstract method is a method that is marked as abstract but does not contain an implementation in the abstract base class. Concrete (non-abstract) subclasses must provide an implementation for these abstract methods."
   ]
  },
  {
   "cell_type": "code",
   "execution_count": 15,
   "id": "b77fad73-edd5-4635-9006-901752d7caed",
   "metadata": {},
   "outputs": [
    {
     "name": "stdout",
     "output_type": "stream",
     "text": [
      "Area: 78.5, Perimeter: 31.400000000000002\n",
      "Area: 24, Perimeter: 20\n"
     ]
    }
   ],
   "source": [
    "from abc import ABC, abstractmethod\n",
    "\n",
    "# Abstract base class representing a shape\n",
    "class Shape(ABC):\n",
    "    @abstractmethod\n",
    "    def area(self):\n",
    "        pass\n",
    "\n",
    "    @abstractmethod\n",
    "    def perimeter(self):\n",
    "        pass\n",
    "\n",
    "# Concrete class representing a Circle\n",
    "class Circle(Shape):\n",
    "    def __init__(self, radius):\n",
    "        self.radius = radius\n",
    "\n",
    "    def area(self):\n",
    "        return 3.14 * self.radius * self.radius\n",
    "\n",
    "    def perimeter(self):\n",
    "        return 2 * 3.14 * self.radius\n",
    "\n",
    "# Concrete class representing a Rectangle\n",
    "class Rectangle(Shape):\n",
    "    def __init__(self, length, width):\n",
    "        self.length = length\n",
    "        self.width = width\n",
    "\n",
    "    def area(self):\n",
    "        return self.length * self.width\n",
    "\n",
    "    def perimeter(self):\n",
    "        return 2 * (self.length + self.width)\n",
    "\n",
    "# Usage\n",
    "circle = Circle(5)\n",
    "rectangle = Rectangle(4, 6)\n",
    "\n",
    "shapes = [circle, rectangle]\n",
    "\n",
    "for shape in shapes:\n",
    "    print(f\"Area: {shape.area()}, Perimeter: {shape.perimeter()}\")"
   ]
  },
  {
   "cell_type": "code",
   "execution_count": 16,
   "id": "271ddeff-8a72-419d-bd0c-87737bc18ac4",
   "metadata": {},
   "outputs": [],
   "source": [
    "# The Shape class is an abstract base class with abstract methods area and perimeter.\n",
    "# The Circle and Rectangle classes are concrete classes that inherit from Shape and provide implementations for the abstract methods.\n",
    "# The abc module helps in enforcing a common interface among related classes, making the code more robust and maintainable. If a subclass fails to implement the required abstract methods, Python raises a TypeError at runtime, indicating that the class is not fully implementing the abstract interface defined by the abstract base class."
   ]
  },
  {
   "cell_type": "code",
   "execution_count": 17,
   "id": "e352f1b0-717d-4833-b5f8-8e4f2f0514d4",
   "metadata": {},
   "outputs": [],
   "source": [
    "# Q4. How can we achieve data abstraction?"
   ]
  },
  {
   "cell_type": "code",
   "execution_count": 18,
   "id": "50f6fa9b-35c1-4ad7-a91d-edae2437e668",
   "metadata": {},
   "outputs": [],
   "source": [
    "# Data abstraction in programming refers to the concept of hiding the complex implementation details of data and providing a simplified and consistent interface for interacting with that data. In object-oriented programming (OOP), data abstraction is often achieved through the use of abstract classes, interfaces, and access control mechanisms. Here's how you can achieve data abstraction in Python:\n",
    "\n",
    "# Abstract Classes and Methods:\n",
    "\n",
    "# Define an abstract class that represents the abstract concept or type of data.\n",
    "# Declare abstract methods within the abstract class. These methods represent the essential behaviors that must be implemented by concrete subclasses.\n",
    "# Use the abc module to create abstract base classes."
   ]
  },
  {
   "cell_type": "code",
   "execution_count": 19,
   "id": "31422a12-2bb6-4e30-9dc1-898e763cfec1",
   "metadata": {},
   "outputs": [],
   "source": [
    "from abc import ABC, abstractmethod\n",
    "\n",
    "class AbstractData(ABC):\n",
    "    @abstractmethod\n",
    "    def get_data(self):\n",
    "        pass\n",
    "\n",
    "    @abstractmethod\n",
    "    def set_data(self, value):\n",
    "        pass"
   ]
  },
  {
   "cell_type": "code",
   "execution_count": 20,
   "id": "194fdb32-081b-4c9b-a19c-838213faacc7",
   "metadata": {},
   "outputs": [],
   "source": [
    "# Concrete Classes:\n",
    "\n",
    "# Create concrete classes that inherit from the abstract class.\n",
    "# Implement the abstract methods in the concrete classes."
   ]
  },
  {
   "cell_type": "code",
   "execution_count": 21,
   "id": "57270773-4f76-4b04-bc48-db59a9965dc3",
   "metadata": {},
   "outputs": [],
   "source": [
    "class ConcreteData(AbstractData):\n",
    "    def __init__(self):\n",
    "        self._data = None\n",
    "\n",
    "    def get_data(self):\n",
    "        return self._data\n",
    "\n",
    "    def set_data(self, value):\n",
    "        self._data = value"
   ]
  },
  {
   "cell_type": "code",
   "execution_count": 22,
   "id": "096fc0bc-fa50-401e-bb0d-98ce556edecc",
   "metadata": {},
   "outputs": [],
   "source": [
    "# Access Control:\n",
    "\n",
    "# Use access control mechanisms to restrict direct access to the internal details of the data.\n",
    "# Conventionally, a single leading underscore (_) indicates a protected attribute, and a double leading underscore (__) indicates a private attribute."
   ]
  },
  {
   "cell_type": "code",
   "execution_count": 23,
   "id": "044b80a5-1e3f-4842-b863-6278df5c8bad",
   "metadata": {},
   "outputs": [],
   "source": [
    "class AbstractData(ABC):\n",
    "    def __init__(self):\n",
    "        self._data = None  # protected attribute\n",
    "\n",
    "    @abstractmethod\n",
    "    def get_data(self):\n",
    "        pass\n",
    "\n",
    "    @abstractmethod\n",
    "    def set_data(self, value):\n",
    "        pass"
   ]
  },
  {
   "cell_type": "code",
   "execution_count": 26,
   "id": "ab662014-506f-4e79-b402-f1f8394d719d",
   "metadata": {},
   "outputs": [],
   "source": [
    "# Interface-based Design:\n",
    "\n",
    "# Emphasize designing interfaces that define the methods and properties without specifying the implementation details.\n",
    "# Focus on what the data should do rather than how it is implemented.\n",
    "\n"
   ]
  },
  {
   "cell_type": "code",
   "execution_count": 25,
   "id": "2ba2ed99-92db-43d1-85d6-da6705337ed2",
   "metadata": {},
   "outputs": [],
   "source": [
    "class DataInterface(ABC):\n",
    "    @abstractmethod\n",
    "    def get_data(self):\n",
    "        pass\n",
    "\n",
    "    @abstractmethod\n",
    "    def set_data(self, value):\n",
    "        pass\n",
    "\n",
    "class ConcreteData(DataInterface):\n",
    "    def __init__(self):\n",
    "        self._data = None\n",
    "\n",
    "    def get_data(self):\n",
    "        return self._data\n",
    "\n",
    "    def set_data(self, value):\n",
    "        self._data = value"
   ]
  },
  {
   "cell_type": "code",
   "execution_count": 27,
   "id": "83c713aa-35c7-4550-8a54-7e43a184ea38",
   "metadata": {},
   "outputs": [],
   "source": [
    "# Q5. Can we create an instance of an abstract class? Explain your answer."
   ]
  },
  {
   "cell_type": "code",
   "execution_count": 32,
   "id": "97279465-6e27-47d8-8148-83005eac6c17",
   "metadata": {},
   "outputs": [],
   "source": [
    "# # No, you cannot create an instance of an abstract class in Python. Abstract classes are meant to be incomplete and are designed to be subclassed. They often contain abstract methods, which are methods without an implementation in the abstract class. These abstract methods must be implemented by concrete (non-abstract) subclasses.\n",
    "\n",
    "# # Attempting to create an instance of an abstract class directly will result in a TypeError. The purpose of abstract classes is to provide a common interface and structure for a group of related classes, ensuring that certain methods are implemented by those subclasses.\n",
    "\n",
    "\n",
    "\n",
    "\n",
    "\n",
    "\n",
    "# To use the functionality provided by an abstract class, you should create a concrete subclass that inherits from the abstract class and implements the abstract methods:\n"
   ]
  },
  {
   "cell_type": "code",
   "execution_count": 29,
   "id": "fe59eb1f-502a-4363-86b9-cb96a7e045d3",
   "metadata": {},
   "outputs": [],
   "source": [
    "from abc import ABC, abstractmethod\n",
    "\n",
    "# Abstract class\n",
    "class MyAbstractClass(ABC):\n",
    "    @abstractmethod\n",
    "    def abstract_method(self):\n",
    "        pass"
   ]
  },
  {
   "cell_type": "code",
   "execution_count": 30,
   "id": "a4d781cb-93aa-4b58-aabe-60be0dd15b67",
   "metadata": {},
   "outputs": [
    {
     "name": "stdout",
     "output_type": "stream",
     "text": [
      "TypeError: Can't instantiate abstract class MyAbstractClass with abstract method abstract_method\n"
     ]
    }
   ],
   "source": [
    "# Attempt to create an instance of the abstract class\n",
    "try:\n",
    "    instance = MyAbstractClass()  # This will raise a TypeError\n",
    "except TypeError as e:\n",
    "    print(f\"TypeError: {e}\")"
   ]
  },
  {
   "cell_type": "code",
   "execution_count": 31,
   "id": "68eeb6c2-cf9b-4011-a68d-11872600b496",
   "metadata": {},
   "outputs": [
    {
     "name": "stdout",
     "output_type": "stream",
     "text": [
      "Implementation of abstract_method\n"
     ]
    }
   ],
   "source": [
    "class MyConcreteClass(MyAbstractClass):\n",
    "    def abstract_method(self):\n",
    "        print(\"Implementation of abstract_method\")\n",
    "\n",
    "# Creating an instance of the concrete subclass\n",
    "instance = MyConcreteClass()\n",
    "instance.abstract_method()  # This will call the implemented method"
   ]
  },
  {
   "cell_type": "code",
   "execution_count": null,
   "id": "3ec2bc0a-4d49-4934-baa7-960ed073793c",
   "metadata": {},
   "outputs": [],
   "source": []
  }
 ],
 "metadata": {
  "kernelspec": {
   "display_name": "Python 3 (ipykernel)",
   "language": "python",
   "name": "python3"
  },
  "language_info": {
   "codemirror_mode": {
    "name": "ipython",
    "version": 3
   },
   "file_extension": ".py",
   "mimetype": "text/x-python",
   "name": "python",
   "nbconvert_exporter": "python",
   "pygments_lexer": "ipython3",
   "version": "3.10.8"
  }
 },
 "nbformat": 4,
 "nbformat_minor": 5
}
